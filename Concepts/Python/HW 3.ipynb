{
  "cells": [
    {
      "cell_type": "markdown",
      "metadata": {
        "id": "AsAdBoUF7FJb"
      },
      "source": [
        "[![Open In Colab](https://colab.research.google.com/assets/colab-badge.svg)](https://colab.research.google.com/github/PennNGG/Quantitative-Neuroscience/blob/master/Concepts/Python/Multiple%20Comparisons.ipynb)"
      ]
    },
    {
      "cell_type": "markdown",
      "metadata": {
        "id": "pKIiY6p3GRFq"
      },
      "source": [
        "# Definitions"
      ]
    },
    {
      "cell_type": "markdown",
      "metadata": {
        "id": "x7VmLUr5GTNw"
      },
      "source": [
        "The multiple comparisons problem in statistics occurs when multiple statistical inferences are done simultaneously, which greatly increases the probability that any one inference will yield an erroneous result, by chance. A lot has been written about this problem, including:\n",
        "\n",
        "- [Its prevalence in fMRI data analysis](https://www.sciencedirect.com/science/article/pii/S1053811912007057?via%3Dihub) (including a compelling illustration by this [prizewinning study](https://blogs.scientificamerican.com/scicurious-brain/ignobel-prize-in-neuroscience-the-dead-salmon-study/)\\)\n",
        "\n",
        "- [How Baysian methods can avoid the problem](http://www.stat.columbia.edu/~gelman/research/published/multiple2f.pdf).\n",
        "\n",
        "- [General approaches for correcting for multiple comparisons](http://www.biostathandbook.com/multiplecomparisons.html).\n",
        "\n",
        "Here we will provide some intuition for the problem using a simple thought experiment, to sensitize you to how much of a problem it can be. Consider performing the same statistical test on *N* different samples corresponding to, say, different voxels in fMRI data, using a *p*-value of $\\alpha$ (typically 0.05) for each test.\n",
        "\n",
        "Thus, for any one test, the probability of getting a Type I error (rejecting $H_0$ when $H_0$ is true) is $\\alpha$:\n",
        "\n",
        "$p_{error}=\\alpha$\n",
        "\n",
        "For two tests, the probably of getting a Type I error for either test is just one minus the combined probability of not getting a Type I error from either one:\n",
        "\n",
        "$p_{error}=1-(1-\\alpha)(1-\\alpha)$\n",
        "\n",
        "For *N* tests, the probably of getting a Type I error for either test is just one minus the combined probability of not getting a Type I error from any one:\n",
        "\n",
        "$p_{error}=1-(1-\\alpha)^N$\n",
        "\n",
        "Run the cell below to see that the probability of getting a Type I error under these conditions grows rapidly with *N*, implying that it becomes very, very likely that you will get a \"statistically significant result\" just by chance if you do enough tests:"
      ]
    },
    {
      "cell_type": "code",
      "execution_count": null,
      "metadata": {
        "colab": {
          "base_uri": "https://localhost:8080/",
          "height": 296
        },
        "id": "2hOkXUd67ulE",
        "outputId": "be1f4885-b013-4e1d-8cbc-80e1dbfd7006"
      },
      "outputs": [
        {
          "data": {
            "text/plain": [
              "Text(0, 0.5, '$P_{error}$')"
            ]
          },
          "execution_count": 1,
          "metadata": {},
          "output_type": "execute_result"
        },
        {
          "data": {
            "image/png": "[encoded data removed]",
            "text/plain": [
              "<Figure size 432x288 with 1 Axes>"
            ]
          },
          "metadata": {
            "needs_background": "light"
          },
          "output_type": "display_data"
        }
      ],
      "source": [
        "import matplotlib.pyplot as plt\n",
        "import numpy as np\n",
        "\n",
        "alpha = 0.05\n",
        "N = np.arange(0,100)\n",
        "plt.plot(N, 1-(1-alpha)**N)\n",
        "plt.xlabel('N')\n",
        "plt.ylabel('$P_{error}$')"
      ]
    },
    {
      "cell_type": "markdown",
      "metadata": {
        "id": "mzkMd-fc9cVM"
      },
      "source": [
        "# Correcting for multiple comparisons"
      ]
    },
    {
      "cell_type": "markdown",
      "metadata": {
        "id": "ncsvEVZB9gNS"
      },
      "source": [
        "\n",
        "\n",
        "There are a number of different methods that can be used to [correct for this problem](https://www.ncbi.nlm.nih.gov/pmc/articles/PMC5506159/). Below are two common methods.\n",
        "\n",
        "\n"
      ]
    },
    {
      "cell_type": "markdown",
      "metadata": {
        "id": "S7_LgTOk9sPr"
      },
      "source": [
        "## Bonferroni correction"
      ]
    },
    {
      "cell_type": "markdown",
      "metadata": {
        "id": "-N0vdWBq9vNU"
      },
      "source": [
        "The simplest way to correct for Type I errors (false positives) in multiple comparisons is to divide $\\alpha$ by the number of comparisons, known as the [Bonferroni correction](https://mathworld.wolfram.com/BonferroniCorrection.html). This is a very conservative test that is typically used when the number of comparisons is relatively small and you want to avoid Type I errors."
      ]
    },
    {
      "cell_type": "markdown",
      "metadata": {
        "id": "_YxAlI859900"
      },
      "source": [
        "## Benjamini–Hochberg procedure\n"
      ]
    },
    {
      "cell_type": "markdown",
      "metadata": {
        "id": "dSE9u8cN-A9U"
      },
      "source": [
        "Another approach is to more carefully control the false-discovery rate using the [Benjamini–Hochberg procedure](https://www.jstor.org/stable/2346101?seq=1#metadata_info_tab_contents):\n",
        "\n",
        "1\\. Rank the individual *p*-values in ascending order, labeled *i*=1...*n*\n",
        "\n",
        "2\\. For each *p*-value, calculate its \"critical value\" as (*i*/*n*)*Q*, where *i* is the rank, *n* is the total number of tests, and *Q* is the false discovery rate (a percentage) that you choose (typically 0.05).\n",
        "\n",
        "3\\. In your rank-ordered, original *p*-values, find the largest value that is smaller than its associated critical value; this *p*-value is the new criterion (i.e., reject $H_0$ for all cases for which *p* ≤ this value)."
      ]
    },
    {
      "cell_type": "markdown",
      "metadata": {
        "id": "UgWPKk6J7FJf"
      },
      "source": [
        "# Exercise"
      ]
    },
    {
      "cell_type": "markdown",
      "metadata": {
        "id": "XI10V8-K7FJf"
      },
      "source": [
        "In this exercise we will run through an example of correcting for multiple comparisons with both the Benjamini-Hochberg procedure and the more conservative Bonferroni correction.\n",
        "\n",
        "First, simulate multiple (say, 1000) t-tests comparing two samples with equal means and standard deviations, and save the p-values. Obviously, at p<0.05 we expect that ~5% of the simulations to yield a \"statistically significant\" result (of rejecting the NULL hypothesis that the samples come from distributions with equal means).\n",
        "\n",
        "Second, once you have the simulated p-values, apply both methods to address the multiple comparisons problem.\n",
        "\n",
        "Third, set the sample 1 and sample 2 means to be 1 and 2 respectively, and re-run the exercise. What do you notice? What if you make the difference between means even greater?"
      ]
    },
    {
      "cell_type": "code",
      "source": [
        "import numpy as np\n",
        "from scipy.stats import ttest_ind\n",
        "\n",
        "# Set parameters\n",
        "num_tests = 1000\n",
        "sample_size = 30\n",
        "mean1 = 1\n",
        "mean2 = 1\n",
        "std_dev = 1\n",
        "\n",
        "# Initialize array to store p-values\n",
        "p_values = []\n",
        "\n",
        "# Simulate t-tests\n",
        "for _ in range(num_tests):\n",
        "    sample1 = np.random.normal(mean1, std_dev, sample_size)\n",
        "    sample2 = np.random.normal(mean2, std_dev, sample_size)\n",
        "    t_stat, p_value = ttest_ind(sample1, sample2)\n",
        "    p_values.append(p_value)\n",
        "\n",
        "# Convert to numpy array for easier manipulation\n",
        "p_values = np.array(p_values)\n"
      ],
      "metadata": {
        "id": "uMU6UvjNFMUy"
      },
      "execution_count": 5,
      "outputs": []
    },
    {
      "cell_type": "code",
      "source": [
        "from statsmodels.stats.multitest import multipletests\n",
        "\n",
        "# Benjamini-Hochberg Procedure\n",
        "bh_reject, bh_corrected_p_values, _, _ = multipletests(p_values, alpha=0.05, method='fdr_bh')\n",
        "\n",
        "# Bonferroni Correction\n",
        "bonf_reject, bonf_corrected_p_values, _, _ = multipletests(p_values, alpha=0.05, method='bonferroni')\n"
      ],
      "metadata": {
        "id": "_qTkPhknFQ0y"
      },
      "execution_count": 6,
      "outputs": []
    },
    {
      "cell_type": "code",
      "source": [
        "mean1 = 1\n",
        "mean2 = 2\n",
        "\n",
        "# Re-initialize array to store p-values\n",
        "p_values = []\n",
        "\n",
        "# Simulate t-tests with new means\n",
        "for _ in range(num_tests):\n",
        "    sample1 = np.random.normal(mean1, std_dev, sample_size)\n",
        "    sample2 = np.random.normal(mean2, std_dev, sample_size)\n",
        "    t_stat, p_value = ttest_ind(sample1, sample2)\n",
        "    p_values.append(p_value)\n",
        "\n",
        "# Convert to numpy array for easier manipulation\n",
        "p_values = np.array(p_values)\n",
        "\n",
        "# Apply Benjamini-Hochberg Procedure and Bonferroni Correction again\n",
        "bh_reject_new, bh_corrected_p_values_new, _, _ = multipletests(p_values, alpha=0.05, method='fdr_bh')\n",
        "bonf_reject_new, bonf_corrected_p_values_new, _, _ = multipletests(p_values, alpha=0.05, method='bonferroni')\n"
      ],
      "metadata": {
        "id": "ylxx8YszFfEN"
      },
      "execution_count": 7,
      "outputs": []
    },
    {
      "cell_type": "code",
      "source": [
        "# Count how many null hypotheses are rejected\n",
        "num_bh_reject = np.sum(bh_reject)\n",
        "num_bonf_reject = np.sum(bonf_reject)\n",
        "\n",
        "num_bh_reject_new = np.sum(bh_reject_new)\n",
        "num_bonf_reject_new = np.sum(bonf_reject_new)\n",
        "\n",
        "print(f\"Number of rejections using Benjamini-Hochberg (original): {num_bh_reject}\")\n",
        "print(f\"Number of rejections using Bonferroni (original): {num_bonf_reject}\")\n",
        "print(f\"Number of rejections using Benjamini-Hochberg (new means): {num_bh_reject_new}\")\n",
        "print(f\"Number of rejections using Bonferroni (new means): {num_bonf_reject_new}\")\n"
      ],
      "metadata": {
        "id": "P4Gqluk2FiB0",
        "outputId": "0575f2f4-0cf3-49f9-edc8-b79d99e3b9aa",
        "colab": {
          "base_uri": "https://localhost:8080/"
        }
      },
      "execution_count": 9,
      "outputs": [
        {
          "output_type": "stream",
          "name": "stdout",
          "text": [
            "Number of rejections using Benjamini-Hochberg (original): 0\n",
            "Number of rejections using Bonferroni (original): 0\n",
            "Number of rejections using Benjamini-Hochberg (new means): 968\n",
            "Number of rejections using Bonferroni (new means): 314\n"
          ]
        }
      ]
    },
    {
      "cell_type": "markdown",
      "source": [
        "When the means are the same, there are no rejections. However, the further apart the means are the more rejections there are likely to be. Additionally, since the Bonferroni method is more conservative there will usually be less rejections than the Benjamini-Hochberg method."
      ],
      "metadata": {
        "id": "2uSyb4U7GLB0"
      }
    },
    {
      "cell_type": "markdown",
      "metadata": {
        "id": "UqoNXyuxP-go"
      },
      "source": [
        "# Additional Resources\n"
      ]
    },
    {
      "cell_type": "markdown",
      "metadata": {
        "id": "clnBO4FU28El"
      },
      "source": [
        "How to correct for multiple comparisons in [Matlab](https://www.mathworks.com/help/stats/multcompare.html), [R](https://stat.ethz.ch/R-manual/R-devel/library/stats/html/p.adjust.html), and [Python](https://www.statsmodels.org/dev/generated/statsmodels.stats.multitest.multipletests.html)"
      ]
    },
    {
      "cell_type": "markdown",
      "metadata": {
        "id": "tteEm2Qlgbb3"
      },
      "source": [
        "# Credits\n",
        "\n",
        "Copyright 2021 by Joshua I. Gold, University of Pennsylvania"
      ]
    }
  ],
  "metadata": {
    "colab": {
      "collapsed_sections": [
        "pKIiY6p3GRFq"
      ],
      "name": "Multiple Comparisons",
      "provenance": [],
      "toc_visible": true
    },
    "kernelspec": {
      "display_name": "Python 3.9.6 64-bit",
      "language": "python",
      "name": "python3"
    },
    "language_info": {
      "name": "python",
      "version": "3.9.6"
    },
    "vscode": {
      "interpreter": {
        "hash": "aee8b7b246df8f9039afb4144a1f6fd8d2ca17a180786b69acc140d282b71a49"
      }
    }
  },
  "nbformat": 4,
  "nbformat_minor": 0
}
